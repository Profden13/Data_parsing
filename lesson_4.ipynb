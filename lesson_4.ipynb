{
  "nbformat": 4,
  "nbformat_minor": 0,
  "metadata": {
    "colab": {
      "provenance": []
    },
    "kernelspec": {
      "name": "python3",
      "display_name": "Python 3"
    },
    "language_info": {
      "name": "python"
    }
  },
  "cells": [
    {
      "cell_type": "code",
      "execution_count": 13,
      "metadata": {
        "colab": {
          "base_uri": "https://localhost:8080/"
        },
        "id": "-kNggIU_SRn9",
        "outputId": "69086e0f-4349-46a8-88e4-9d4dd3e4e06e"
      },
      "outputs": [
        {
          "output_type": "stream",
          "name": "stdout",
          "text": [
            "\n",
            "WARNING: apt does not have a stable CLI interface. Use with caution in scripts.\n",
            "\n"
          ]
        }
      ],
      "source": [
        "!apt install mongodb > log"
      ]
    },
    {
      "cell_type": "code",
      "source": [
        "!service mongodb start"
      ],
      "metadata": {
        "colab": {
          "base_uri": "https://localhost:8080/"
        },
        "id": "pgAUd6J1S6Iv",
        "outputId": "412777d9-7742-42b1-cd06-25cb82adb21d"
      },
      "execution_count": 59,
      "outputs": [
        {
          "output_type": "stream",
          "name": "stdout",
          "text": [
            " * Starting database mongodb\n",
            "   ...done.\n"
          ]
        }
      ]
    },
    {
      "cell_type": "code",
      "source": [
        "!pip install pymongo"
      ],
      "metadata": {
        "colab": {
          "base_uri": "https://localhost:8080/"
        },
        "id": "6toeEaFETDT9",
        "outputId": "7ce97907-a6d6-42f2-8325-ecdd281802a8"
      },
      "execution_count": 60,
      "outputs": [
        {
          "output_type": "stream",
          "name": "stdout",
          "text": [
            "Looking in indexes: https://pypi.org/simple, https://us-python.pkg.dev/colab-wheels/public/simple/\n",
            "Requirement already satisfied: pymongo in /usr/local/lib/python3.8/dist-packages (4.3.3)\n",
            "Requirement already satisfied: dnspython<3.0.0,>=1.16.0 in /usr/local/lib/python3.8/dist-packages (from pymongo) (2.3.0)\n"
          ]
        }
      ]
    },
    {
      "cell_type": "markdown",
      "source": [
        "1. Развернуть у себя на компьютере/виртуальной машине/хостинге MongoDB и реализовать функцию, которая будет добавлять только новые вакансии/продукты в вашу базу.\n"
      ],
      "metadata": {
        "id": "6AunrIXyTp1q"
      }
    },
    {
      "cell_type": "code",
      "source": [
        "from bs4 import BeautifulSoup as bs\n",
        "import requests\n",
        "import re\n",
        "import pandas as pd\n",
        "from pymongo import MongoClient\n",
        "from pprint import pprint\n",
        "import time"
      ],
      "metadata": {
        "id": "nqAWUZ2QTxmP"
      },
      "execution_count": 138,
      "outputs": []
    },
    {
      "cell_type": "code",
      "source": [
        "client = MongoClient('localhost',27017)\n",
        "db = client.vacancies_db\n",
        "hh_vac = db.hh_vac"
      ],
      "metadata": {
        "id": "xuz-7uDDT9at"
      },
      "execution_count": 139,
      "outputs": []
    },
    {
      "cell_type": "code",
      "source": [
        "def hh_search(vacancy, page, only_new = 'yes', hh_vac = hh_vac):\n",
        "\n",
        "    vacancy_data = []\n",
        "\n",
        "    params = {\n",
        "        'text': vacancy, \\\n",
        "        'search_field': 'name', \\\n",
        "        'items_on_page': '100', \\\n",
        "        'page': ''\n",
        "    }\n",
        "    \n",
        "    headers = {\n",
        "        'User-Agent': 'Mozilla/5.0 (Macintosh; Intel Mac OS X 10_15_7) AppleWebKit/537.36 (KHTML, like Gecko) Chrome/109.0.0.0 Safari/537.36'\n",
        "    }\n",
        "\n",
        "    link = 'https://hh.ru/search/vacancy'\n",
        "       \n",
        "    html = requests.get(link, params=params, headers=headers)\n",
        "\n",
        "    i = 0\n",
        "\n",
        "    for p in range(page):\n",
        "        html = requests.get(link, params=params, headers=headers).text\n",
        "        parsed_html = bs(html,'lxml')\n",
        "        vac_list = parsed_html.findAll('div', {'class':'vacancy-serp-item-body__main-info'})\n",
        "        df = pd.DataFrame(columns=['name', 'salary_min', 'salary_max', 'salary_currency', 'url', 'site'])\n",
        "\n",
        "        for vac in vac_list:\n",
        "            vac_data = {}\n",
        "\n",
        "            link = vac.find('a')\n",
        "            if not link:\n",
        "                url = 'nan'\n",
        "                vac_data['name'] = ''\n",
        "            else:\n",
        "                vac_data['name'] = link.getText()\n",
        "                url = link[\"href\"].split('?')[0]\n",
        "                vac_num = url.split('/')[4]\n",
        "\n",
        "            salary = vac.find('span', {'data-qa': 'vacancy-serp__vacancy-compensation'})\n",
        "            \n",
        "            if not salary:\n",
        "                salary_min = None\n",
        "                salary_max = None\n",
        "                salary_currency = None\n",
        "            else:\n",
        "                salary = salary.getText().replace(u'\\u202f', u'')\n",
        "        \n",
        "                salary = re.split(r\"\\s\", salary)\n",
        "        \n",
        "                if salary[0] == 'до':\n",
        "                    salary_min = None\n",
        "                    salary_max = int(salary[1])\n",
        "                    salary_currency = salary[2]\n",
        "                elif salary[0] == 'от':\n",
        "                    salary_min = int(salary[1])\n",
        "                    salary_max = None\n",
        "                    salary_currency = salary[2]\n",
        "                else:\n",
        "                    salary_min = int(salary[0])\n",
        "                    salary_max = int(salary[2])\n",
        "                    salary_currency = salary[3]\n",
        "        \n",
        "            vac_data['salary_min'] = salary_min\n",
        "            vac_data['salary_max'] = salary_max\n",
        "            vac_data['salary_currency'] = salary_currency\n",
        "            \n",
        "            vac_data['url'] = url\n",
        "            vac_data['vac_num'] = vac_num\n",
        "            vac_data['site'] = 'hh.ru'\n",
        "\n",
        "            vacancy_data.append(vac_data)\n",
        "            df.append(vac_data, ignore_index = True)\n",
        "            if only_new == 'yes':\n",
        "                if find_in_db('hh', vac_num) == 0:\n",
        "                    hh_vac.insert_one(vac_data)\n",
        "            else:\n",
        "                hh_vac.insert_one(vac_data)\n",
        "\n",
        "            i += 1\n",
        "        time.sleep(1)\n",
        "    return(vacancy_data)\n"
      ],
      "metadata": {
        "id": "79qGVX4CUURP"
      },
      "execution_count": 128,
      "outputs": []
    },
    {
      "cell_type": "code",
      "source": [
        "def find_in_db(site, vac_num):\n",
        "  exists = 0\n",
        "  if site == 'hh':\n",
        "    exists = hh_vac.count_documents({'vac_num': vac_num})\n",
        "  return exists\n"
      ],
      "metadata": {
        "id": "lzLxz3KBUcP3"
      },
      "execution_count": 122,
      "outputs": []
    },
    {
      "cell_type": "code",
      "source": [
        "def search_vac(only_new = 'yes'):\n",
        "\n",
        "  text = input('Введите вакансию: ')\n",
        "  text = text.replace(' ', '+')\n",
        "  page = int(input('Введите кол-во страниц: '))\n",
        "\n",
        "  hh_search(text, page, only_new)\n",
        "\n",
        "  df = pd.DataFrame.from_dict(hh_search(text, page))\n",
        "  return df"
      ],
      "metadata": {
        "id": "dK6XQUgiVQsw"
      },
      "execution_count": 34,
      "outputs": []
    },
    {
      "cell_type": "code",
      "source": [
        "print(search_vac('yes'))"
      ],
      "metadata": {
        "colab": {
          "base_uri": "https://localhost:8080/"
        },
        "id": "vP2HEWkUVZUA",
        "outputId": "50e500cc-18eb-4d3c-c997-e36751db3801"
      },
      "execution_count": 140,
      "outputs": [
        {
          "output_type": "stream",
          "name": "stdout",
          "text": [
            "Введите вакансию: Python\n",
            "Введите кол-во страниц: 1\n",
            "                                                 name  salary_min  salary_max  \\\n",
            "0            Ведущий инженер по тестированию (python)         NaN         NaN   \n",
            "1                        Backend программист (Python)    120000.0         NaN   \n",
            "2                                  Разработчик Python    200000.0    250000.0   \n",
            "3                           Программист Python Junior         NaN         NaN   \n",
            "4                                  Программист Python     45000.0         NaN   \n",
            "5                             Junior Python developer     50000.0     90000.0   \n",
            "6                    Python-разработчик (Django, DRF)     60000.0    220000.0   \n",
            "7                                  Разработчик Python    200000.0    250000.0   \n",
            "8                             Разработчик C# / Python    300000.0    500000.0   \n",
            "9   Junior Python Backend Developer - разработчик ...     80000.0    120000.0   \n",
            "10       Python Backend Developer / WEB - разработчик    300000.0    450000.0   \n",
            "11              Ведущий Python разработчик (удаленка)         NaN      8000.0   \n",
            "12                                 Python разработчик    100000.0    200000.0   \n",
            "13                                 Python разработчик     25000.0         NaN   \n",
            "14          Junior+ программист-разработчик на Python         NaN    150000.0   \n",
            "15   Программист Python - FastAPI / Backend Developer    180000.0         NaN   \n",
            "16                                 Python-разработчик         NaN         NaN   \n",
            "17                                 Разработчик Python    100000.0         NaN   \n",
            "18  Python Developer по работе с ChatGPT (генерати...         NaN         NaN   \n",
            "19                              Lead Python developer         NaN    500000.0   \n",
            "\n",
            "   salary_currency                             url   vac_num   site  \n",
            "0             None  https://hh.ru/vacancy/73199414  73199414  hh.ru  \n",
            "1             руб.  https://hh.ru/vacancy/77147428  77147428  hh.ru  \n",
            "2             руб.  https://hh.ru/vacancy/77091466  77091466  hh.ru  \n",
            "3             None  https://hh.ru/vacancy/77146976  77146976  hh.ru  \n",
            "4             руб.  https://hh.ru/vacancy/76608111  76608111  hh.ru  \n",
            "5             руб.  https://hh.ru/vacancy/77067279  77067279  hh.ru  \n",
            "6             руб.  https://hh.ru/vacancy/70705466  70705466  hh.ru  \n",
            "7             руб.  https://hh.ru/vacancy/77091465  77091465  hh.ru  \n",
            "8             руб.  https://hh.ru/vacancy/71147348  71147348  hh.ru  \n",
            "9             руб.  https://hh.ru/vacancy/76811711  76811711  hh.ru  \n",
            "10            руб.  https://hh.ru/vacancy/72216524  72216524  hh.ru  \n",
            "11             USD  https://hh.ru/vacancy/76832091  76832091  hh.ru  \n",
            "12            руб.  https://hh.ru/vacancy/76786188  76786188  hh.ru  \n",
            "13            руб.  https://hh.ru/vacancy/76818478  76818478  hh.ru  \n",
            "14            руб.  https://hh.ru/vacancy/77357729  77357729  hh.ru  \n",
            "15            руб.  https://hh.ru/vacancy/77358668  77358668  hh.ru  \n",
            "16            None  https://hh.ru/vacancy/76727757  76727757  hh.ru  \n",
            "17            руб.  https://hh.ru/vacancy/77234310  77234310  hh.ru  \n",
            "18            None  https://hh.ru/vacancy/77144612  77144612  hh.ru  \n",
            "19            руб.  https://hh.ru/vacancy/77337809  77337809  hh.ru  \n"
          ]
        }
      ]
    },
    {
      "cell_type": "markdown",
      "source": [
        "2. Написать функцию, которая производит поиск и выводит на экран вакансии с заработной платой больше введённой суммы (необходимо анализировать оба поля зарплаты)."
      ],
      "metadata": {
        "id": "OuoiWcIiVzZn"
      }
    },
    {
      "cell_type": "code",
      "source": [
        "def find_salary():\n",
        "  salary = int(input('Введите минимальную зарплату: '))\n",
        "  expensive_vacs = hh_vac.find({'$or': [{'salary_min':{'$gt':salary}}, {'salary_max':{'$gt':salary}}]})#.sort('salary_min')\n",
        "  #hh_vac.drop()\n",
        "  print('Вакансии с зарплатой выше чем ', salary)\n",
        "  for item in expensive_vacs:\n",
        "    pprint(item)"
      ],
      "metadata": {
        "id": "gz_mfx6_V7KJ"
      },
      "execution_count": 136,
      "outputs": []
    },
    {
      "cell_type": "code",
      "source": [
        "find_salary()"
      ],
      "metadata": {
        "id": "sGFw8DOvWA8R",
        "colab": {
          "base_uri": "https://localhost:8080/"
        },
        "outputId": "27d387c2-bc63-4799-b2de-59d382cbc218"
      },
      "execution_count": 141,
      "outputs": [
        {
          "output_type": "stream",
          "name": "stdout",
          "text": [
            "Введите минимальную зарплату: 250000\n",
            "Вакансии с зарплатой выше чем  250000\n",
            "{'_id': ObjectId('63f8c4c55c1592ff465d7b91'),\n",
            " 'name': 'Разработчик C# / Python',\n",
            " 'salary_currency': 'руб.',\n",
            " 'salary_max': 500000,\n",
            " 'salary_min': 300000,\n",
            " 'site': 'hh.ru',\n",
            " 'url': 'https://hh.ru/vacancy/71147348',\n",
            " 'vac_num': '71147348'}\n",
            "{'_id': ObjectId('63f8c4c55c1592ff465d7b93'),\n",
            " 'name': 'Python Backend Developer / WEB - разработчик',\n",
            " 'salary_currency': 'руб.',\n",
            " 'salary_max': 450000,\n",
            " 'salary_min': 300000,\n",
            " 'site': 'hh.ru',\n",
            " 'url': 'https://hh.ru/vacancy/72216524',\n",
            " 'vac_num': '72216524'}\n",
            "{'_id': ObjectId('63f8c4c55c1592ff465d7b9c'),\n",
            " 'name': 'Lead Python developer',\n",
            " 'salary_currency': 'руб.',\n",
            " 'salary_max': 500000,\n",
            " 'salary_min': None,\n",
            " 'site': 'hh.ru',\n",
            " 'url': 'https://hh.ru/vacancy/77337809',\n",
            " 'vac_num': '77337809'}\n"
          ]
        }
      ]
    }
  ]
}